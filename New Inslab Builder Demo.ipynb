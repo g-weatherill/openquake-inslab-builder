{
 "cells": [
  {
   "cell_type": "code",
   "execution_count": null,
   "metadata": {
    "collapsed": true
   },
   "outputs": [],
   "source": [
    "%matplotlib notebook\n",
    "import numpy as np\n",
    "import matplotlib.pyplot as plt\n",
    "from mpl_toolkits.mplot3d import Axes3D\n",
    "from openquake.hazardlib.geo.nodalplane import NodalPlane\n",
    "from openquake.hazardlib.pmf import PMF\n",
    "from openquake.hazardlib.geo.point import Point\n",
    "from openquake.hazardlib.geo.line import Line\n",
    "from openquake.hazardlib.scalerel import StrasserIntraslab, PeerMSR\n",
    "from openquake.hazardlib.mfd import (EvenlyDiscretizedMFD, TruncatedGRMFD,\n",
    "                                     YoungsCoppersmith1985MFD, ArbitraryMFD)\n",
    "import inslab_builder as isb"
   ]
  },
  {
   "cell_type": "markdown",
   "metadata": {},
   "source": [
    "## Construct an Inslab Source Model from a Slab 1.0 Interface Definition"
   ]
  },
  {
   "cell_type": "markdown",
   "metadata": {},
   "source": [
    "In this demonstration we will construct a subduction in-slab source model based on the Slab 1.0 Sumatra subduction interface definition.\n",
    "\n",
    "The subduction source will contain the following properties:\n",
    "\n",
    "* Slab thickenss = 15.0 km\n",
    "\n",
    "* Sources spaced every 5 km (sometimes wider spacing is used for images)\n",
    "\n",
    "* Maximum Depth of the seismogenic interface is taken as 100.0 km, maximum seismogenic depth of the ruptures is 150 km\n",
    "\n",
    "* Rupture mechanisms will be aligned such that:\n",
    "        \n",
    "    i. In the upper 40 km strike is aligned with the trench, dip is 15 degrees steeper than the interface and mechanism is reverse (essentially a plate flexure rupture)\n",
    "      \n",
    "    ii. In the 40 km - 80 km depth range strike is also aligned with the trench and dip made steeper to 30 degrees with respect to the interface. The mechanism is now extensional (gravity pull extension)\n",
    "        \n",
    "    iii. Below 80 km we consider two types of mechanism. In the first case the rupture plane is still aligned with the trench but the dip steeper (now 45 $^{\\circ}$ with respect to the interface) and the mechanism still extension. This is given a probability of 0.6. In the second case the strike is perpendicular to the trench and the deep made steeper (to 60$^{\\circ}$ with respect to the interface). The mechanism is now strike-slip , indicating a lateral stress lower slab flexure (Aegean-style deep mechanism) and is given a probability of 0.4.\n",
    "     \n",
    "* In the shallowest 80 km ruptures will be constrained by the slab geometry (impermeable), below 80 km the geometry is considered to be permeable.\n",
    "\n",
    "* The magnitude frequency distribution will be a Truncated Gutenberg-Richter model with a = 5.0, b = 1.0, Mmin = 5.5 and Mmax = 8.0\n",
    "\n",
    "* Two layers of points will be used (at 0.3 and 0.7 of the slab thickness)\n",
    "\n",
    "* An aspect ratio of 1.0 is assumed (this will break as ruptures hit the slab thickness)\n",
    "\n",
    "* The Inslab scaling model of Strasser et al. (2010) is used"
   ]
  },
  {
   "cell_type": "markdown",
   "metadata": {},
   "source": [
    "#### Read in Data and Instantiate Model Builder"
   ]
  },
  {
   "cell_type": "code",
   "execution_count": null,
   "metadata": {
    "collapsed": false
   },
   "outputs": [],
   "source": [
    "top_edge_file = \"./slab_demo_data/sum_top.in\"\n",
    "edge_contour_file = \"./slab_demo_data/sum_contours.in\"\n",
    "spacing = 10.0 # km\n",
    "maximum_interface_depth = 100.0 # km\n",
    "\n",
    "model1 = isb.InSlabSourceBuilder.from_contour_files(top_edge_file,\n",
    "                                                    edge_contour_file,\n",
    "                                                    maximum_interface_depth,\n",
    "                                                    spacing)"
   ]
  },
  {
   "cell_type": "markdown",
   "metadata": {},
   "source": [
    "##### Visualise the interface"
   ]
  },
  {
   "cell_type": "code",
   "execution_count": null,
   "metadata": {
    "collapsed": false
   },
   "outputs": [],
   "source": [
    "\n",
    "fig = plt.figure(figsize=(10,10))\n",
    "ax = fig.add_subplot(111, projection='3d')\n",
    "ax.plot_wireframe(model1.interface.mesh.lons,\n",
    "           model1.interface.mesh.lats,\n",
    "           -model1.interface.mesh.depths,\n",
    "           color=\"b\")\n",
    "\n",
    "\n",
    "ax.set_xlabel(r\"Longitude $^{\\circ}$\")\n",
    "ax.set_ylabel(r\"Latitude $^{\\circ}$\")\n",
    "ax.set_zlabel(\"Depth (km)\")\n",
    "ax.set_zlim(-140., 0.0)\n",
    "\n",
    "ax.set_zticks([0.0, -20, -40, -60, -80, -100, -120, -140])\n",
    "ax.set_zticklabels([\"0\", \"20\", \"40\", \"60\", \"80\", \"100\", \"120\", \"140\"])"
   ]
  },
  {
   "cell_type": "markdown",
   "metadata": {},
   "source": [
    "#### Render the sources normal to the interface"
   ]
  },
  {
   "cell_type": "code",
   "execution_count": null,
   "metadata": {
    "collapsed": false
   },
   "outputs": [],
   "source": [
    "thickness = 15.0 # km\n",
    "layers = [0.3, 0.7] # Two layers\n",
    "\n",
    "# Format is [((upper_depth_1, lower_depth_1), NodalPlane(strike_1, dip_1, rake_1)),\n",
    "#            ((upper_depth_2, lower_depth_2), NodalPlane(strike_2, dip_2, rake_2))\n",
    "#             ...\n",
    "#            ((upper_depth_n, lower_depth_n), NodalPlane(strike_n, dip_n, rake_n))]\n",
    "\n",
    "mechanism_distribution = [((0.0, 40.0), PMF([(1.0, NodalPlane(0.0, 15.0, 90.0))])),\n",
    "                          ((40.0, 80.0), PMF([(1.0, NodalPlane(0.0, 30.0, -90.0))])),\n",
    "                          ((80.0, np.inf), PMF([(0.6, NodalPlane(0.0, 45.0, -90.0)),\n",
    "                                                (0.4, NodalPlane(90.0, 60.0, 0.0))]))\n",
    "                           ]\n",
    "\n",
    "mechanism_type = \"Relative\"\n",
    "\n",
    "# Porosity distribution\n",
    "# Format is [((upper_depth_1, lower_depth_1), False),\n",
    "#            ((upper_depth_2, lower_depth_2), False),\n",
    "#           ... \n",
    "#            (upper_depth_n, lower_depth_n), False)]\n",
    "porosity = [((0.0, 80.0), False),\n",
    "            ((80.0, np.inf), True)]\n",
    "\n",
    "model1.render_inslab_points_normal(thickness,\n",
    "                                   depth_npd=mechanism_distribution,\n",
    "                                   layer_fractions=layers,\n",
    "                                   porosity_distribution=porosity,\n",
    "                                   npd_type=mechanism_type)\n"
   ]
  },
  {
   "cell_type": "code",
   "execution_count": null,
   "metadata": {
    "collapsed": false
   },
   "outputs": [],
   "source": [
    "# Visualise the interface and lower surface\n",
    "fig = plt.figure(figsize=(10,10))\n",
    "ax = fig.add_subplot(111, projection='3d')\n",
    "ax.plot_wireframe(model1.interface.mesh.lons,\n",
    "           model1.interface.mesh.lats,\n",
    "           -model1.interface.mesh.depths,\n",
    "           color=\"b\")\n",
    "ax.plot_wireframe(model1.lower_surface.lons,\n",
    "           model1.lower_surface.lats,\n",
    "           -model1.lower_surface.depths,\n",
    "           color=\"r\")\n",
    "\n",
    "ax.set_xlabel(r\"Longitude $^{\\circ}$\")\n",
    "ax.set_ylabel(r\"Latitude $^{\\circ}$\")\n",
    "ax.set_zlabel(\"Depth (km)\")\n",
    "ax.set_zlim(-140., 0.0)\n",
    "\n",
    "ax.set_zticks([0.0, -20, -40, -60, -80, -100, -120, -140])\n",
    "ax.set_zticklabels([\"0\", \"20\", \"40\", \"60\", \"80\", \"100\", \"120\", \"140\"])"
   ]
  },
  {
   "cell_type": "code",
   "execution_count": null,
   "metadata": {
    "collapsed": false
   },
   "outputs": [],
   "source": [
    "# Get the inslab points\n",
    "inslab_pnts = np.array(\n",
    "    [(pnt.longitude, pnt.latitude, pnt.depth) for pnt in model1.inslab_points]\n",
    "    )\n",
    "\n",
    "fig = plt.figure(figsize=(10,10))\n",
    "ax = fig.add_subplot(111, projection='3d')\n",
    "# Plot the interface\n",
    "ax.plot_wireframe(model1.interface.mesh.lons,\n",
    "           model1.interface.mesh.lats,\n",
    "           -model1.interface.mesh.depths,\n",
    "           color=\"b\")\n",
    "# Plot the lower surface\n",
    "ax.plot_wireframe(model1.lower_surface.lons,\n",
    "           model1.lower_surface.lats,\n",
    "           -model1.lower_surface.depths,\n",
    "           color=\"r\")\n",
    "# Plot the source anchor points\n",
    "ax.scatter(inslab_pnts[:, 0], inslab_pnts[:, 1], -inslab_pnts[:, 2], \".\", color=\"k\")\n",
    "\n",
    "ax.set_xlabel(r\"Longitude $^{\\circ}$\")\n",
    "ax.set_ylabel(r\"Latitude $^{\\circ}$\")\n",
    "ax.set_zlabel(\"Depth (km)\")\n",
    "ax.set_zlim(-140., 0.0)\n",
    "ax.set_zticks([0.0, -20, -40, -60, -80, -100, -120, -140])\n",
    "ax.set_zticklabels([\"0\", \"20\", \"40\", \"60\", \"80\", \"100\", \"120\", \"140\"])"
   ]
  },
  {
   "cell_type": "markdown",
   "metadata": {},
   "source": [
    "#### Build the In-Slab Source Model (may take approx. 20 - 30 seconds)"
   ]
  },
  {
   "cell_type": "code",
   "execution_count": null,
   "metadata": {
    "collapsed": false
   },
   "outputs": [],
   "source": [
    "mfd = TruncatedGRMFD(min_mag=5.5, max_mag=8.0, bin_width=0.1, a_val=5.0, b_val=1.0)\n",
    "\n",
    "model1.build_source_model(mfd,\n",
    "                          \"SUM_IS_MOD\", # Stem for all IDs\n",
    "                          msr=StrasserIntraslab(),\n",
    "                          usd=0.0,  # Master upper seismogenic depth (no ruptures exceed this even if permeable)\n",
    "                          lsd=150.0, # Master lower seismogenic depth (no ruptures exceed this even if permeable)\n",
    "                          aspect=1.0)"
   ]
  },
  {
   "cell_type": "markdown",
   "metadata": {},
   "source": [
    "#### Export the Source Model to file (may also take some time depending on number of sources)"
   ]
  },
  {
   "cell_type": "code",
   "execution_count": null,
   "metadata": {
    "collapsed": true
   },
   "outputs": [],
   "source": [
    "output_file = \"./output_models/Example_Sumatra_Inslab1.xml\"\n",
    "name_of_source_model = \"Sumatra Inslab Model Version 1.0\"\n",
    "model1.write_source_model(output_filename=output_file,\n",
    "                          source_model_name=name_of_source_model)"
   ]
  },
  {
   "cell_type": "markdown",
   "metadata": {},
   "source": [
    "## PEER Test Example"
   ]
  },
  {
   "cell_type": "markdown",
   "metadata": {},
   "source": [
    "The second, and perhaps simpler, example demonstrates how to construct the in-slab model adopted within the PEER tests.\n",
    "\n",
    "The particulars of the model are:\n",
    "\n",
    "1. Slab thickness 12.5 km\n",
    "\n",
    "2. Rupture Mechanism - All ruptures striking parallel to the interface, with with a dip of 35$^{\\circ}$ relative to the interface. Reverse faulting is assumed here, though not relevent for the actual PEER test.\n",
    "\n",
    "3. All depths are assumed impermeable\n",
    "\n",
    "4. Two layers are used [0.3, 0.7]\n",
    "\n",
    "5. The PEER scaling relation is used\n",
    "\n",
    "6. The MFD is assumed to be a Truncated Gutenberg Richter with a = 2.1139, b = 1.0, bin_width=0.1, Mmin = 5.0, Mmax = 8.0\n",
    "\n",
    "7. Aspect ratio is assumed to be 1.5"
   ]
  },
  {
   "cell_type": "markdown",
   "metadata": {},
   "source": [
    "##### Build the surface from three parallel edges"
   ]
  },
  {
   "cell_type": "code",
   "execution_count": null,
   "metadata": {
    "collapsed": true
   },
   "outputs": [],
   "source": [
    "top_edge = Line([Point(-65.50625, -0.44967, 25.0),\n",
    "                 Point(-65.50625, 0.44967, 25.0)])\n",
    "middle_edge = Line([Point(-65.0000, -0.44967, 57.5),\n",
    "                    Point(-65.0000, 0.44967, 57.5)])\n",
    "bottom_edge = Line([Point(-64.58666, -0.44967, 103.46),\n",
    "                    Point(-64.58666, 0.44967, 103.46)])\n",
    "\n",
    "spacing = 5.0\n",
    "\n",
    "model2 = isb.InSlabSourceBuilder([top_edge, middle_edge, bottom_edge], spacing)"
   ]
  },
  {
   "cell_type": "code",
   "execution_count": null,
   "metadata": {
    "collapsed": false
   },
   "outputs": [],
   "source": [
    "fig = plt.figure(figsize=(10,10))\n",
    "ax = fig.add_subplot(111, projection='3d')\n",
    "\n",
    "ax.plot_wireframe(model2.interface.mesh.lons,\n",
    "           model2.interface.mesh.lats,\n",
    "           -model2.interface.mesh.depths,\n",
    "           color=\"b\")\n",
    "\n",
    "\n",
    "ax.scatter(model2.interface.mesh.lons,\n",
    "           model2.interface.mesh.lats,\n",
    "           -model2.interface.mesh.depths,\n",
    "           marker='.')\n",
    "\n",
    "ax.set_xlabel(r\"Longitude $^{\\circ}$\")\n",
    "ax.set_ylabel(r\"Latitude $^{\\circ}$\")\n",
    "ax.set_zlabel(\"Depth (km)\")\n",
    "ax.set_zlim(-120., 0.0)\n",
    "ax.set_zticks([0.0, -20, -40, -60, -80, -100, -120])\n",
    "ax.set_zticklabels([\"0\", \"20\", \"40\", \"60\", \"80\", \"100\", \"120\"])"
   ]
  },
  {
   "cell_type": "code",
   "execution_count": null,
   "metadata": {
    "collapsed": false
   },
   "outputs": [],
   "source": [
    "# Build the in-slab source configuration\n",
    "thickness = 12.5\n",
    "depth_npd = [\n",
    "    ((0., np.inf), PMF([(1.0, NodalPlane(0., 35., 90))]))\n",
    "]\n",
    "porosity_dist = [((0., np.inf), False)]\n",
    "\n",
    "layers = [0.3, 0.7]\n",
    "\n",
    "#mfd = TruncatedGRMFD(5.0, 8.0, 0.01, 2.1139, 0.8)\n",
    "\n",
    "model2.render_inslab_points_normal(thickness, depth_npd, layers, porosity_dist, npd_type=\"Relative\")"
   ]
  },
  {
   "cell_type": "code",
   "execution_count": null,
   "metadata": {
    "collapsed": false
   },
   "outputs": [],
   "source": [
    "# Get the inslab points\n",
    "inslab_pnts = np.array(\n",
    "    [(pnt.longitude, pnt.latitude, pnt.depth) for pnt in model2.inslab_points]\n",
    "    )\n",
    "\n",
    "# Visualise the configuration\n",
    "fig = plt.figure(figsize=(10,10))\n",
    "ax = fig.add_subplot(111, projection='3d')\n",
    "\n",
    "ax.plot_wireframe(model2.interface.mesh.lons,\n",
    "           model2.interface.mesh.lats,\n",
    "           -model2.interface.mesh.depths,\n",
    "           color=\"b\")\n",
    "ax.plot_wireframe(model2.lower_surface.lons,\n",
    "           model2.lower_surface.lats,\n",
    "           -model2.lower_surface.depths,\n",
    "           color=\"r\")\n",
    "ax.scatter(inslab_pnts[:, 0], inslab_pnts[:, 1], -inslab_pnts[:, 2], marker='.')\n",
    "\n",
    "ax.set_xlabel(r\"Longitude $^{\\circ}$\")\n",
    "ax.set_ylabel(r\"Latitude $^{\\circ}$\")\n",
    "ax.set_zlabel(\"Depth (km)\")\n",
    "ax.set_zlim(-120., 0.0)\n",
    "ax.set_zticks([0.0, -20, -40, -60, -80, -100, -120])\n",
    "ax.set_zticklabels([\"0\", \"20\", \"40\", \"60\", \"80\", \"100\", \"120\"])"
   ]
  },
  {
   "cell_type": "code",
   "execution_count": null,
   "metadata": {
    "collapsed": true
   },
   "outputs": [],
   "source": [
    "# Build the source model\n",
    "mfd = TruncatedGRMFD(min_mag=5.0, max_mag=8.0, bin_width=0.1, a_val=2.1139, b_val=0.8)\n",
    "\n",
    "model2.build_source_model(mfd,\n",
    "                          \"PEER_IS_TEST\",\n",
    "                          msr=PeerMSR(),\n",
    "                          usd=0.0,\n",
    "                          lsd=120.0,\n",
    "                          aspect=1.5)"
   ]
  },
  {
   "cell_type": "code",
   "execution_count": null,
   "metadata": {
    "collapsed": true
   },
   "outputs": [],
   "source": [
    "# Export the source model\n",
    "output_file = \"./output_models/PEER_Test_Example1.xml\"\n",
    "source_name = \"PEER Test Inslab Example 1\"\n",
    "\n",
    "model2.write_source_model(output_file, source_name)"
   ]
  }
 ],
 "metadata": {
  "kernelspec": {
   "display_name": "Python 2",
   "language": "python",
   "name": "python2"
  },
  "language_info": {
   "codemirror_mode": {
    "name": "ipython",
    "version": 2
   },
   "file_extension": ".py",
   "mimetype": "text/x-python",
   "name": "python",
   "nbconvert_exporter": "python",
   "pygments_lexer": "ipython2",
   "version": "2.7.12"
  }
 },
 "nbformat": 4,
 "nbformat_minor": 0
}
